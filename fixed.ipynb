{
 "cells": [
  {
   "cell_type": "markdown",
   "metadata": {
    "id": "qZBWkoTgaRLk"
   },
   "source": [
    "##Начало работы"
   ]
  },
  {
   "cell_type": "markdown",
   "metadata": {
    "id": "mkP_b8Wwu_nA"
   },
   "source": [
    "Все используемые датасеты, данные в виде словарей и списков, сохраненные в файлах, будут находиться в папке data"
   ]
  },
  {
   "cell_type": "markdown",
   "metadata": {
    "id": "T343zobVNiqs"
   },
   "source": [
    "#Загрузка и объединение датасетов"
   ]
  },
  {
   "cell_type": "code",
   "execution_count": null,
   "metadata": {
    "id": "58YIh7fjMpfc"
   },
   "outputs": [],
   "source": [
    "import pandas as pd\n",
    "df_1 = pd.read_csv('1976_Sep2016_USPTOgrants_smiles_yield_ok_cropped_data.csv', sep = '\\t', index_col = 0)\n",
    "df_2 = pd.read_csv('2001_Sep2016_USPTOapplications_smiles_yield_ok_cropped_data.csv', sep = '\\t', index_col = 0)"
   ]
  },
  {
   "cell_type": "code",
   "execution_count": null,
   "metadata": {
    "colab": {
     "base_uri": "https://localhost:8080/",
     "height": 241
    },
    "executionInfo": {
     "elapsed": 4765,
     "status": "ok",
     "timestamp": 1741889620812,
     "user": {
      "displayName": "Евгений Бриленков",
      "userId": "06100629232654699466"
     },
     "user_tz": -180
    },
    "id": "Lkmx33gfNtyA",
    "outputId": "5f55bb4b-3fca-4eb8-f306-c587f4b78325"
   },
   "outputs": [
    {
     "name": "stdout",
     "output_type": "stream",
     "text": [
      "Размер датасета: (786422, 3)\n",
      "Количество пропусков: 0\n"
     ]
    },
    {
     "data": {
      "application/vnd.google.colaboratory.intrinsic+json": {
       "type": "dataframe",
       "variable_name": "data"
      },
      "text/html": [
       "\n",
       "  <div id=\"df-93de3f59-b077-468c-ab2e-3d590293dcdb\" class=\"colab-df-container\">\n",
       "    <div>\n",
       "<style scoped>\n",
       "    .dataframe tbody tr th:only-of-type {\n",
       "        vertical-align: middle;\n",
       "    }\n",
       "\n",
       "    .dataframe tbody tr th {\n",
       "        vertical-align: top;\n",
       "    }\n",
       "\n",
       "    .dataframe thead th {\n",
       "        text-align: right;\n",
       "    }\n",
       "</style>\n",
       "<table border=\"1\" class=\"dataframe\">\n",
       "  <thead>\n",
       "    <tr style=\"text-align: right;\">\n",
       "      <th></th>\n",
       "      <th>myID</th>\n",
       "      <th>ReactionSmiles</th>\n",
       "      <th>Yield</th>\n",
       "    </tr>\n",
       "  </thead>\n",
       "  <tbody>\n",
       "    <tr>\n",
       "      <th>27</th>\n",
       "      <td>ID00000027</td>\n",
       "      <td>[CH2:1]([S:3][C:4]1[CH:26]=[CH:25][C:7]2[N:8](...</td>\n",
       "      <td>82.0</td>\n",
       "    </tr>\n",
       "    <tr>\n",
       "      <th>28</th>\n",
       "      <td>ID00000028</td>\n",
       "      <td>[CH2:1]([S:3][C:4]1[CH:25]=[CH:24][C:7]2[N:8](...</td>\n",
       "      <td>78.1</td>\n",
       "    </tr>\n",
       "    <tr>\n",
       "      <th>31</th>\n",
       "      <td>ID00000031</td>\n",
       "      <td>[H-].[Al+3].[Li+].[H-].[H-].[H-].[CH2:7]([S:9]...</td>\n",
       "      <td>82.1</td>\n",
       "    </tr>\n",
       "    <tr>\n",
       "      <th>36</th>\n",
       "      <td>ID00000036</td>\n",
       "      <td>[NH2:1][C:2]1[CH:3]=[CH:4][C:5]2[N:9]=[C:8]3[C...</td>\n",
       "      <td>67.9</td>\n",
       "    </tr>\n",
       "    <tr>\n",
       "      <th>41</th>\n",
       "      <td>ID00000041</td>\n",
       "      <td>[C:1]([NH:5][NH:6][C:7]([C:12]#[N:13])([CH:9]1...</td>\n",
       "      <td>81.9</td>\n",
       "    </tr>\n",
       "  </tbody>\n",
       "</table>\n",
       "</div>\n",
       "    <div class=\"colab-df-buttons\">\n",
       "\n",
       "  <div class=\"colab-df-container\">\n",
       "    <button class=\"colab-df-convert\" onclick=\"convertToInteractive('df-93de3f59-b077-468c-ab2e-3d590293dcdb')\"\n",
       "            title=\"Convert this dataframe to an interactive table.\"\n",
       "            style=\"display:none;\">\n",
       "\n",
       "  <svg xmlns=\"http://www.w3.org/2000/svg\" height=\"24px\" viewBox=\"0 -960 960 960\">\n",
       "    <path d=\"M120-120v-720h720v720H120Zm60-500h600v-160H180v160Zm220 220h160v-160H400v160Zm0 220h160v-160H400v160ZM180-400h160v-160H180v160Zm440 0h160v-160H620v160ZM180-180h160v-160H180v160Zm440 0h160v-160H620v160Z\"/>\n",
       "  </svg>\n",
       "    </button>\n",
       "\n",
       "  <style>\n",
       "    .colab-df-container {\n",
       "      display:flex;\n",
       "      gap: 12px;\n",
       "    }\n",
       "\n",
       "    .colab-df-convert {\n",
       "      background-color: #E8F0FE;\n",
       "      border: none;\n",
       "      border-radius: 50%;\n",
       "      cursor: pointer;\n",
       "      display: none;\n",
       "      fill: #1967D2;\n",
       "      height: 32px;\n",
       "      padding: 0 0 0 0;\n",
       "      width: 32px;\n",
       "    }\n",
       "\n",
       "    .colab-df-convert:hover {\n",
       "      background-color: #E2EBFA;\n",
       "      box-shadow: 0px 1px 2px rgba(60, 64, 67, 0.3), 0px 1px 3px 1px rgba(60, 64, 67, 0.15);\n",
       "      fill: #174EA6;\n",
       "    }\n",
       "\n",
       "    .colab-df-buttons div {\n",
       "      margin-bottom: 4px;\n",
       "    }\n",
       "\n",
       "    [theme=dark] .colab-df-convert {\n",
       "      background-color: #3B4455;\n",
       "      fill: #D2E3FC;\n",
       "    }\n",
       "\n",
       "    [theme=dark] .colab-df-convert:hover {\n",
       "      background-color: #434B5C;\n",
       "      box-shadow: 0px 1px 3px 1px rgba(0, 0, 0, 0.15);\n",
       "      filter: drop-shadow(0px 1px 2px rgba(0, 0, 0, 0.3));\n",
       "      fill: #FFFFFF;\n",
       "    }\n",
       "  </style>\n",
       "\n",
       "    <script>\n",
       "      const buttonEl =\n",
       "        document.querySelector('#df-93de3f59-b077-468c-ab2e-3d590293dcdb button.colab-df-convert');\n",
       "      buttonEl.style.display =\n",
       "        google.colab.kernel.accessAllowed ? 'block' : 'none';\n",
       "\n",
       "      async function convertToInteractive(key) {\n",
       "        const element = document.querySelector('#df-93de3f59-b077-468c-ab2e-3d590293dcdb');\n",
       "        const dataTable =\n",
       "          await google.colab.kernel.invokeFunction('convertToInteractive',\n",
       "                                                    [key], {});\n",
       "        if (!dataTable) return;\n",
       "\n",
       "        const docLinkHtml = 'Like what you see? Visit the ' +\n",
       "          '<a target=\"_blank\" href=https://colab.research.google.com/notebooks/data_table.ipynb>data table notebook</a>'\n",
       "          + ' to learn more about interactive tables.';\n",
       "        element.innerHTML = '';\n",
       "        dataTable['output_type'] = 'display_data';\n",
       "        await google.colab.output.renderOutput(dataTable, element);\n",
       "        const docLink = document.createElement('div');\n",
       "        docLink.innerHTML = docLinkHtml;\n",
       "        element.appendChild(docLink);\n",
       "      }\n",
       "    </script>\n",
       "  </div>\n",
       "\n",
       "\n",
       "<div id=\"df-1895d4fa-3dc0-4b99-8025-10cd014fcdf0\">\n",
       "  <button class=\"colab-df-quickchart\" onclick=\"quickchart('df-1895d4fa-3dc0-4b99-8025-10cd014fcdf0')\"\n",
       "            title=\"Suggest charts\"\n",
       "            style=\"display:none;\">\n",
       "\n",
       "<svg xmlns=\"http://www.w3.org/2000/svg\" height=\"24px\"viewBox=\"0 0 24 24\"\n",
       "     width=\"24px\">\n",
       "    <g>\n",
       "        <path d=\"M19 3H5c-1.1 0-2 .9-2 2v14c0 1.1.9 2 2 2h14c1.1 0 2-.9 2-2V5c0-1.1-.9-2-2-2zM9 17H7v-7h2v7zm4 0h-2V7h2v10zm4 0h-2v-4h2v4z\"/>\n",
       "    </g>\n",
       "</svg>\n",
       "  </button>\n",
       "\n",
       "<style>\n",
       "  .colab-df-quickchart {\n",
       "      --bg-color: #E8F0FE;\n",
       "      --fill-color: #1967D2;\n",
       "      --hover-bg-color: #E2EBFA;\n",
       "      --hover-fill-color: #174EA6;\n",
       "      --disabled-fill-color: #AAA;\n",
       "      --disabled-bg-color: #DDD;\n",
       "  }\n",
       "\n",
       "  [theme=dark] .colab-df-quickchart {\n",
       "      --bg-color: #3B4455;\n",
       "      --fill-color: #D2E3FC;\n",
       "      --hover-bg-color: #434B5C;\n",
       "      --hover-fill-color: #FFFFFF;\n",
       "      --disabled-bg-color: #3B4455;\n",
       "      --disabled-fill-color: #666;\n",
       "  }\n",
       "\n",
       "  .colab-df-quickchart {\n",
       "    background-color: var(--bg-color);\n",
       "    border: none;\n",
       "    border-radius: 50%;\n",
       "    cursor: pointer;\n",
       "    display: none;\n",
       "    fill: var(--fill-color);\n",
       "    height: 32px;\n",
       "    padding: 0;\n",
       "    width: 32px;\n",
       "  }\n",
       "\n",
       "  .colab-df-quickchart:hover {\n",
       "    background-color: var(--hover-bg-color);\n",
       "    box-shadow: 0 1px 2px rgba(60, 64, 67, 0.3), 0 1px 3px 1px rgba(60, 64, 67, 0.15);\n",
       "    fill: var(--button-hover-fill-color);\n",
       "  }\n",
       "\n",
       "  .colab-df-quickchart-complete:disabled,\n",
       "  .colab-df-quickchart-complete:disabled:hover {\n",
       "    background-color: var(--disabled-bg-color);\n",
       "    fill: var(--disabled-fill-color);\n",
       "    box-shadow: none;\n",
       "  }\n",
       "\n",
       "  .colab-df-spinner {\n",
       "    border: 2px solid var(--fill-color);\n",
       "    border-color: transparent;\n",
       "    border-bottom-color: var(--fill-color);\n",
       "    animation:\n",
       "      spin 1s steps(1) infinite;\n",
       "  }\n",
       "\n",
       "  @keyframes spin {\n",
       "    0% {\n",
       "      border-color: transparent;\n",
       "      border-bottom-color: var(--fill-color);\n",
       "      border-left-color: var(--fill-color);\n",
       "    }\n",
       "    20% {\n",
       "      border-color: transparent;\n",
       "      border-left-color: var(--fill-color);\n",
       "      border-top-color: var(--fill-color);\n",
       "    }\n",
       "    30% {\n",
       "      border-color: transparent;\n",
       "      border-left-color: var(--fill-color);\n",
       "      border-top-color: var(--fill-color);\n",
       "      border-right-color: var(--fill-color);\n",
       "    }\n",
       "    40% {\n",
       "      border-color: transparent;\n",
       "      border-right-color: var(--fill-color);\n",
       "      border-top-color: var(--fill-color);\n",
       "    }\n",
       "    60% {\n",
       "      border-color: transparent;\n",
       "      border-right-color: var(--fill-color);\n",
       "    }\n",
       "    80% {\n",
       "      border-color: transparent;\n",
       "      border-right-color: var(--fill-color);\n",
       "      border-bottom-color: var(--fill-color);\n",
       "    }\n",
       "    90% {\n",
       "      border-color: transparent;\n",
       "      border-bottom-color: var(--fill-color);\n",
       "    }\n",
       "  }\n",
       "</style>\n",
       "\n",
       "  <script>\n",
       "    async function quickchart(key) {\n",
       "      const quickchartButtonEl =\n",
       "        document.querySelector('#' + key + ' button');\n",
       "      quickchartButtonEl.disabled = true;  // To prevent multiple clicks.\n",
       "      quickchartButtonEl.classList.add('colab-df-spinner');\n",
       "      try {\n",
       "        const charts = await google.colab.kernel.invokeFunction(\n",
       "            'suggestCharts', [key], {});\n",
       "      } catch (error) {\n",
       "        console.error('Error during call to suggestCharts:', error);\n",
       "      }\n",
       "      quickchartButtonEl.classList.remove('colab-df-spinner');\n",
       "      quickchartButtonEl.classList.add('colab-df-quickchart-complete');\n",
       "    }\n",
       "    (() => {\n",
       "      let quickchartButtonEl =\n",
       "        document.querySelector('#df-1895d4fa-3dc0-4b99-8025-10cd014fcdf0 button');\n",
       "      quickchartButtonEl.style.display =\n",
       "        google.colab.kernel.accessAllowed ? 'block' : 'none';\n",
       "    })();\n",
       "  </script>\n",
       "</div>\n",
       "\n",
       "    </div>\n",
       "  </div>\n"
      ],
      "text/plain": [
       "          myID                                     ReactionSmiles  Yield\n",
       "27  ID00000027  [CH2:1]([S:3][C:4]1[CH:26]=[CH:25][C:7]2[N:8](...   82.0\n",
       "28  ID00000028  [CH2:1]([S:3][C:4]1[CH:25]=[CH:24][C:7]2[N:8](...   78.1\n",
       "31  ID00000031  [H-].[Al+3].[Li+].[H-].[H-].[H-].[CH2:7]([S:9]...   82.1\n",
       "36  ID00000036  [NH2:1][C:2]1[CH:3]=[CH:4][C:5]2[N:9]=[C:8]3[C...   67.9\n",
       "41  ID00000041  [C:1]([NH:5][NH:6][C:7]([C:12]#[N:13])([CH:9]1...   81.9"
      ]
     },
     "execution_count": 2,
     "metadata": {},
     "output_type": "execute_result"
    }
   ],
   "source": [
    "data = pd.concat([df_1, df_2])\n",
    "data = data.drop_duplicates(subset=[\"ReactionSmiles\",\"Yield\"]) #удаление дубликатов\n",
    "print(f'Размер датасета: {data.shape}')\n",
    "print(f'Количество пропусков: {data.isna().sum().sum()}')\n",
    "data.head()"
   ]
  },
  {
   "cell_type": "markdown",
   "metadata": {
    "id": "l3Q6hxlxtTVE"
   },
   "source": [
    "В формате SMILES запись реакции происходит по типу:\n",
    "\"_реагент.реагент.реагент.реагент>катализатор/растворитель>продукт.продукт.продукт_\""
   ]
  },
  {
   "cell_type": "markdown",
   "metadata": {
    "id": "uYrtcFwdOget"
   },
   "source": [
    "#Распределение таргетной величины"
   ]
  },
  {
   "cell_type": "code",
   "execution_count": null,
   "metadata": {
    "colab": {
     "base_uri": "https://localhost:8080/",
     "height": 564
    },
    "executionInfo": {
     "elapsed": 648,
     "status": "ok",
     "timestamp": 1741889621461,
     "user": {
      "displayName": "Евгений Бриленков",
      "userId": "06100629232654699466"
     },
     "user_tz": -180
    },
    "id": "LfQLwm8tOfk3",
    "outputId": "af068a03-4b35-4aab-eea5-fd8b2c1f3dae"
   },
   "outputs": [
    {
     "data": {
      "image/png": "[encoded data removed]",
      "text/plain": [
       "<Figure size 1000x600 with 1 Axes>"
      ]
     },
     "metadata": {},
     "output_type": "display_data"
    }
   ],
   "source": [
    "import matplotlib.pyplot as plt\n",
    "plt.figure(figsize=(10, 6))\n",
    "data['Yield'].hist(bins=50, edgecolor='black')\n",
    "plt.title('Гистограмма распределения выходов таргета')\n",
    "plt.xlabel('Целевое значение')\n",
    "plt.ylabel('Количество')\n",
    "plt.xticks(rotation=0)\n",
    "plt.show()"
   ]
  },
  {
   "cell_type": "markdown",
   "metadata": {
    "id": "EnOUbM0fPWK5"
   },
   "source": [
    "Удаление ненужной колонки и перевод таргета из численного в категориальный тип данных"
   ]
  },
  {
   "cell_type": "code",
   "execution_count": null,
   "metadata": {
    "id": "ZChJBX37OyCc"
   },
   "outputs": [],
   "source": [
    "def yield_category(yield_):\n",
    "  if yield_ >= 70.00:\n",
    "    return 1\n",
    "  else:\n",
    "    return 0\n",
    "\n",
    "data['Yield'] = data['Yield'].apply(yield_category)\n",
    "ds = data.drop(['myID'], axis = 1)"
   ]
  },
  {
   "cell_type": "markdown",
   "metadata": {
    "id": "SmNbjWm_PuJi"
   },
   "source": [
    "Удаление ненужной информации в конце реакций"
   ]
  },
  {
   "cell_type": "code",
   "execution_count": null,
   "metadata": {
    "id": "8vKZieBuPnkY"
   },
   "outputs": [],
   "source": [
    "import re\n",
    "def remove_pipe_content(input_string):\n",
    "    #используем регулярное выражение для удаления содержимого между '|'\n",
    "    return re.sub(r' \\|.*?\\|', '', input_string)\n",
    "\n",
    "ds['ReactionSmiles'] = ds['ReactionSmiles'].apply(remove_pipe_content)"
   ]
  },
  {
   "cell_type": "markdown",
   "metadata": {
    "id": "Tkinv6yyP6ek"
   },
   "source": [
    "#Анализ количества продуктов в реакциях"
   ]
  },
  {
   "cell_type": "code",
   "execution_count": null,
   "metadata": {
    "colab": {
     "base_uri": "https://localhost:8080/",
     "height": 617
    },
    "executionInfo": {
     "elapsed": 1653,
     "status": "ok",
     "timestamp": 1741889626121,
     "user": {
      "displayName": "Евгений Бриленков",
      "userId": "06100629232654699466"
     },
     "user_tz": -180
    },
    "id": "9U6UfUDiP94R",
    "outputId": "43eb1210-aba0-45a7-8f85-c0f06c060879"
   },
   "outputs": [
    {
     "data": {
      "text/html": [
       "<div>\n",
       "<style scoped>\n",
       "    .dataframe tbody tr th:only-of-type {\n",
       "        vertical-align: middle;\n",
       "    }\n",
       "\n",
       "    .dataframe tbody tr th {\n",
       "        vertical-align: top;\n",
       "    }\n",
       "\n",
       "    .dataframe thead th {\n",
       "        text-align: right;\n",
       "    }\n",
       "</style>\n",
       "<table border=\"1\" class=\"dataframe\">\n",
       "  <thead>\n",
       "    <tr style=\"text-align: right;\">\n",
       "      <th></th>\n",
       "      <th>count</th>\n",
       "    </tr>\n",
       "    <tr>\n",
       "      <th>count_product</th>\n",
       "      <th></th>\n",
       "    </tr>\n",
       "  </thead>\n",
       "  <tbody>\n",
       "    <tr>\n",
       "      <th>1</th>\n",
       "      <td>747730</td>\n",
       "    </tr>\n",
       "    <tr>\n",
       "      <th>2</th>\n",
       "      <td>32064</td>\n",
       "    </tr>\n",
       "    <tr>\n",
       "      <th>3</th>\n",
       "      <td>5454</td>\n",
       "    </tr>\n",
       "    <tr>\n",
       "      <th>4</th>\n",
       "      <td>861</td>\n",
       "    </tr>\n",
       "    <tr>\n",
       "      <th>5</th>\n",
       "      <td>215</td>\n",
       "    </tr>\n",
       "    <tr>\n",
       "      <th>7</th>\n",
       "      <td>35</td>\n",
       "    </tr>\n",
       "    <tr>\n",
       "      <th>6</th>\n",
       "      <td>33</td>\n",
       "    </tr>\n",
       "    <tr>\n",
       "      <th>9</th>\n",
       "      <td>10</td>\n",
       "    </tr>\n",
       "    <tr>\n",
       "      <th>11</th>\n",
       "      <td>8</td>\n",
       "    </tr>\n",
       "    <tr>\n",
       "      <th>10</th>\n",
       "      <td>4</td>\n",
       "    </tr>\n",
       "    <tr>\n",
       "      <th>8</th>\n",
       "      <td>2</td>\n",
       "    </tr>\n",
       "    <tr>\n",
       "      <th>45</th>\n",
       "      <td>2</td>\n",
       "    </tr>\n",
       "    <tr>\n",
       "      <th>31</th>\n",
       "      <td>1</td>\n",
       "    </tr>\n",
       "    <tr>\n",
       "      <th>20</th>\n",
       "      <td>1</td>\n",
       "    </tr>\n",
       "    <tr>\n",
       "      <th>16</th>\n",
       "      <td>1</td>\n",
       "    </tr>\n",
       "    <tr>\n",
       "      <th>14</th>\n",
       "      <td>1</td>\n",
       "    </tr>\n",
       "  </tbody>\n",
       "</table>\n",
       "</div><br><label><b>dtype:</b> int64</label>"
      ],
      "text/plain": [
       "count_product\n",
       "1     747730\n",
       "2      32064\n",
       "3       5454\n",
       "4        861\n",
       "5        215\n",
       "7         35\n",
       "6         33\n",
       "9         10\n",
       "11         8\n",
       "10         4\n",
       "8          2\n",
       "45         2\n",
       "31         1\n",
       "20         1\n",
       "16         1\n",
       "14         1\n",
       "Name: count, dtype: int64"
      ]
     },
     "execution_count": 6,
     "metadata": {},
     "output_type": "execute_result"
    }
   ],
   "source": [
    "def splitting(string):\n",
    "  list1 = str(string).split('>') #разделяем строку на реагенты, катализаторы/растворители, продукты\n",
    "  return list1[-1] #возвращаем только продукты\n",
    "\n",
    "ds['product'] = ds['ReactionSmiles'].apply(splitting)\n",
    "\n",
    "def counter(string):\n",
    "  list1 = str(string).split('.')\n",
    "  return len(list1)\n",
    "\n",
    "ds['count_product'] = ds['product'].apply(counter)\n",
    "ds['count_product'].value_counts()"
   ]
  },
  {
   "cell_type": "markdown",
   "metadata": {
    "id": "xr9rEa27Qj9L"
   },
   "source": [
    "Оставляем реакции органического синтеза (только один продукт)"
   ]
  },
  {
   "cell_type": "code",
   "execution_count": null,
   "metadata": {
    "id": "Kb4tRPK-QHJ7"
   },
   "outputs": [],
   "source": [
    "ds = ds[ds['count_product'] == 1]\n",
    "ds = ds.drop(['product', 'count_product'], axis = 1) #удаляем лишние колонки"
   ]
  },
  {
   "cell_type": "markdown",
   "metadata": {
    "id": "oLv0cOEnYkxe"
   },
   "source": [
    "#Финальное распределение таргетной величины"
   ]
  },
  {
   "cell_type": "code",
   "execution_count": null,
   "metadata": {
    "colab": {
     "base_uri": "https://localhost:8080/",
     "height": 573
    },
    "executionInfo": {
     "elapsed": 2772,
     "status": "ok",
     "timestamp": 1741889629068,
     "user": {
      "displayName": "Евгений Бриленков",
      "userId": "06100629232654699466"
     },
     "user_tz": -180
    },
    "id": "9glbFOyaRFNW",
    "outputId": "d01ac865-cca7-4916-dcb5-2dd84209cfb0"
   },
   "outputs": [
    {
     "data": {
      "image/png": "[encoded data removed]",
      "text/plain": [
       "<Figure size 800x600 with 1 Axes>"
      ]
     },
     "metadata": {},
     "output_type": "display_data"
    }
   ],
   "source": [
    "import seaborn as sns\n",
    "\n",
    "sns.set(style=\"whitegrid\")\n",
    "\n",
    "#построение графика распределения\n",
    "plt.figure(figsize=(8, 6))\n",
    "sns.countplot(x=data['Yield'], palette='pastel', hue=data['Yield'], legend = False)\n",
    "plt.title('Распределение таргетной величины')\n",
    "plt.xlabel('Класс')\n",
    "plt.ylabel('Количество')\n",
    "plt.xticks(ticks=[0, 1], labels=['low', 'high'])\n",
    "plt.grid(axis='y')\n",
    "plt.show()"
   ]
  },
  {
   "cell_type": "code",
   "execution_count": null,
   "metadata": {
    "colab": {
     "base_uri": "https://localhost:8080/"
    },
    "executionInfo": {
     "elapsed": 57,
     "status": "ok",
     "timestamp": 1741889629127,
     "user": {
      "displayName": "Евгений Бриленков",
      "userId": "06100629232654699466"
     },
     "user_tz": -180
    },
    "id": "evUekHP-Sm_r",
    "outputId": "f2fe30ca-0ccc-4b69-a073-576120b9287d"
   },
   "outputs": [
    {
     "name": "stdout",
     "output_type": "stream",
     "text": [
      "Количество реакций с низким выходом: 378319\n",
      "Количество реакций с высоким выходом: 369411\n"
     ]
    }
   ],
   "source": [
    "print(f'Количество реакций с низким выходом: {len(ds[ds[\"Yield\"]==0])}\\nКоличество реакций с высоким выходом: {len(ds[ds[\"Yield\"]==1])}')"
   ]
  },
  {
   "cell_type": "markdown",
   "metadata": {
    "id": "BmZGQRwqYeT9"
   },
   "source": [
    "Сохраняем датасет"
   ]
  },
  {
   "cell_type": "code",
   "execution_count": null,
   "metadata": {
    "id": "Jr2czxjkU2uT"
   },
   "outputs": [],
   "source": [
    "ds.to_csv('prepared_data.csv', sep = '\\t')"
   ]
  },
  {
   "cell_type": "markdown",
   "metadata": {
    "id": "NlT_DGWBaV0v"
   },
   "source": [
    "Теперь необходимо перевести все химические реакции из формата SMILES в текстовый вид. Для экономии времени и ресурсов я решил создать список уникальных молекул датасета, а затем из него сделать словарь с ключами в виде молекул формата SMILES, а значениями этих ключей будет текстовое наименование молекул по номенклатуре ИЮПАК."
   ]
  },
  {
   "cell_type": "markdown",
   "metadata": {
    "id": "1ow0rgCcqcbW"
   },
   "source": [
    "#Создание списка уникальных молекул"
   ]
  },
  {
   "cell_type": "code",
   "execution_count": null,
   "metadata": {
    "colab": {
     "base_uri": "https://localhost:8080/",
     "height": 66,
     "referenced_widgets": [
      "002523c476db4c61b4a55d129a46f9ab",
      "cb81408fd9954ea2bf1ad240d3b19ca8",
      "ee508de64370400a899df0154c69fa14",
      "afc1b3450a7c46f89c4d2df00e273505",
      "200de13e9b8846d28ee63ca75638f1ee",
      "9fb64414abd44ff0b5d4eae40f9c8dc2",
      "e1ba681615bd4dc8b424c4a7a09a9376",
      "899588d001044eb5b211e64dc2ada716",
      "a745395bc99f44e08304dc581d65e311",
      "f7c8a57b7d8947d6a57934b59a8de538",
      "a48cb49b64714bb1b90258d7f2310ae7"
     ]
    },
    "executionInfo": {
     "elapsed": 6636,
     "status": "ok",
     "timestamp": 1741889650756,
     "user": {
      "displayName": "Евгений Бриленков",
      "userId": "06100629232654699466"
     },
     "user_tz": -180
    },
    "id": "bFjMnmB4qhBc",
    "outputId": "c6c92701-79eb-4c78-966f-db670a2ddda0"
   },
   "outputs": [
    {
     "data": {
      "application/vnd.jupyter.widget-view+json": {
       "model_id": "002523c476db4c61b4a55d129a46f9ab",
       "version_major": 2,
       "version_minor": 0
      },
      "text/plain": [
       "  0%|          | 0/747730 [00:00<?, ?it/s]"
      ]
     },
     "metadata": {},
     "output_type": "display_data"
    },
    {
     "name": "stdout",
     "output_type": "stream",
     "text": [
      "Количество уникальных молекул: 1549153\n"
     ]
    }
   ],
   "source": [
    "from tqdm.auto import tqdm\n",
    "import json\n",
    "new_list = set() #использую множество, чтобы не проверять каждый раз в цикле функции отсутствие молекулы в списке\n",
    "tqdm.pandas()\n",
    "\n",
    "def unique(input):\n",
    "    listt = input.replace('>', '.').split('.')\n",
    "    for i in listt:\n",
    "      new_list.add(i)\n",
    "    return input\n",
    "\n",
    "ds['ReactionSmiles'] = ds['ReactionSmiles'].progress_apply(unique)\n",
    "\n",
    "new_list = list(new_list)\n",
    "\n",
    "print(f'Количество уникальных молекул: {len(new_list)}')\n",
    "\n",
    "with open('unique_mol_list.json', 'w') as file:\n",
    "    json.dump(new_list, file)"
   ]
  },
  {
   "cell_type": "markdown",
   "metadata": {
    "id": "IFHAliHKrYTF"
   },
   "source": [
    "Теперь необходимо создать словарь с ключ-молекула SMILES : значение-текстовое название молекулы по ИЮПАК. Так как генерация названия молекул - очень времязатратный и ресурсозатратный процесс, я выполнял его на кластерном сервере, на который можно загружать только .py файлы. Продолжение в 2_dict_SMILES_text.py"
   ]
  }
 ],
 "metadata": {
  "colab": {
   "authorship_tag": "ABX9TyPmCmAvj2NhGlREGAubDiaG",
   "gpuType": "T4",
   "mount_file_id": "1dVmENZMOlthZz-t7woSVyOhm4MO6e0qT",
   "provenance": []
  },
  "kernelspec": {
   "display_name": "Python 3",
   "name": "python3"
  },
  "language_info": {
   "name": "python"
  },
  "widgets": {
   "application/vnd.jupyter.widget-state+json": {
    "002523c476db4c61b4a55d129a46f9ab": {
     "model_module": "@jupyter-widgets/controls",
     "model_module_version": "1.5.0",
     "model_name": "HBoxModel",
     "state": {
      "_dom_classes": [],
      "_model_module": "@jupyter-widgets/controls",
      "_model_module_version": "1.5.0",
      "_model_name": "HBoxModel",
      "_view_count": null,
      "_view_module": "@jupyter-widgets/controls",
      "_view_module_version": "1.5.0",
      "_view_name": "HBoxView",
      "box_style": "",
      "children": [
       "IPY_MODEL_cb81408fd9954ea2bf1ad240d3b19ca8",
       "IPY_MODEL_ee508de64370400a899df0154c69fa14",
       "IPY_MODEL_afc1b3450a7c46f89c4d2df00e273505"
      ],
      "layout": "IPY_MODEL_200de13e9b8846d28ee63ca75638f1ee"
     }
    },
    "200de13e9b8846d28ee63ca75638f1ee": {
     "model_module": "@jupyter-widgets/base",
     "model_module_version": "1.2.0",
     "model_name": "LayoutModel",
     "state": {
      "_model_module": "@jupyter-widgets/base",
      "_model_module_version": "1.2.0",
      "_model_name": "LayoutModel",
      "_view_count": null,
      "_view_module": "@jupyter-widgets/base",
      "_view_module_version": "1.2.0",
      "_view_name": "LayoutView",
      "align_content": null,
      "align_items": null,
      "align_self": null,
      "border": null,
      "bottom": null,
      "display": null,
      "flex": null,
      "flex_flow": null,
      "grid_area": null,
      "grid_auto_columns": null,
      "grid_auto_flow": null,
      "grid_auto_rows": null,
      "grid_column": null,
      "grid_gap": null,
      "grid_row": null,
      "grid_template_areas": null,
      "grid_template_columns": null,
      "grid_template_rows": null,
      "height": null,
      "justify_content": null,
      "justify_items": null,
      "left": null,
      "margin": null,
      "max_height": null,
      "max_width": null,
      "min_height": null,
      "min_width": null,
      "object_fit": null,
      "object_position": null,
      "order": null,
      "overflow": null,
      "overflow_x": null,
      "overflow_y": null,
      "padding": null,
      "right": null,
      "top": null,
      "visibility": null,
      "width": null
     }
    },
    "899588d001044eb5b211e64dc2ada716": {
     "model_module": "@jupyter-widgets/base",
     "model_module_version": "1.2.0",
     "model_name": "LayoutModel",
     "state": {
      "_model_module": "@jupyter-widgets/base",
      "_model_module_version": "1.2.0",
      "_model_name": "LayoutModel",
      "_view_count": null,
      "_view_module": "@jupyter-widgets/base",
      "_view_module_version": "1.2.0",
      "_view_name": "LayoutView",
      "align_content": null,
      "align_items": null,
      "align_self": null,
      "border": null,
      "bottom": null,
      "display": null,
      "flex": null,
      "flex_flow": null,
      "grid_area": null,
      "grid_auto_columns": null,
      "grid_auto_flow": null,
      "grid_auto_rows": null,
      "grid_column": null,
      "grid_gap": null,
      "grid_row": null,
      "grid_template_areas": null,
      "grid_template_columns": null,
      "grid_template_rows": null,
      "height": null,
      "justify_content": null,
      "justify_items": null,
      "left": null,
      "margin": null,
      "max_height": null,
      "max_width": null,
      "min_height": null,
      "min_width": null,
      "object_fit": null,
      "object_position": null,
      "order": null,
      "overflow": null,
      "overflow_x": null,
      "overflow_y": null,
      "padding": null,
      "right": null,
      "top": null,
      "visibility": null,
      "width": null
     }
    },
    "9fb64414abd44ff0b5d4eae40f9c8dc2": {
     "model_module": "@jupyter-widgets/base",
     "model_module_version": "1.2.0",
     "model_name": "LayoutModel",
     "state": {
      "_model_module": "@jupyter-widgets/base",
      "_model_module_version": "1.2.0",
      "_model_name": "LayoutModel",
      "_view_count": null,
      "_view_module": "@jupyter-widgets/base",
      "_view_module_version": "1.2.0",
      "_view_name": "LayoutView",
      "align_content": null,
      "align_items": null,
      "align_self": null,
      "border": null,
      "bottom": null,
      "display": null,
      "flex": null,
      "flex_flow": null,
      "grid_area": null,
      "grid_auto_columns": null,
      "grid_auto_flow": null,
      "grid_auto_rows": null,
      "grid_column": null,
      "grid_gap": null,
      "grid_row": null,
      "grid_template_areas": null,
      "grid_template_columns": null,
      "grid_template_rows": null,
      "height": null,
      "justify_content": null,
      "justify_items": null,
      "left": null,
      "margin": null,
      "max_height": null,
      "max_width": null,
      "min_height": null,
      "min_width": null,
      "object_fit": null,
      "object_position": null,
      "order": null,
      "overflow": null,
      "overflow_x": null,
      "overflow_y": null,
      "padding": null,
      "right": null,
      "top": null,
      "visibility": null,
      "width": null
     }
    },
    "a48cb49b64714bb1b90258d7f2310ae7": {
     "model_module": "@jupyter-widgets/controls",
     "model_module_version": "1.5.0",
     "model_name": "DescriptionStyleModel",
     "state": {
      "_model_module": "@jupyter-widgets/controls",
      "_model_module_version": "1.5.0",
      "_model_name": "DescriptionStyleModel",
      "_view_count": null,
      "_view_module": "@jupyter-widgets/base",
      "_view_module_version": "1.2.0",
      "_view_name": "StyleView",
      "description_width": ""
     }
    },
    "a745395bc99f44e08304dc581d65e311": {
     "model_module": "@jupyter-widgets/controls",
     "model_module_version": "1.5.0",
     "model_name": "ProgressStyleModel",
     "state": {
      "_model_module": "@jupyter-widgets/controls",
      "_model_module_version": "1.5.0",
      "_model_name": "ProgressStyleModel",
      "_view_count": null,
      "_view_module": "@jupyter-widgets/base",
      "_view_module_version": "1.2.0",
      "_view_name": "StyleView",
      "bar_color": null,
      "description_width": ""
     }
    },
    "afc1b3450a7c46f89c4d2df00e273505": {
     "model_module": "@jupyter-widgets/controls",
     "model_module_version": "1.5.0",
     "model_name": "HTMLModel",
     "state": {
      "_dom_classes": [],
      "_model_module": "@jupyter-widgets/controls",
      "_model_module_version": "1.5.0",
      "_model_name": "HTMLModel",
      "_view_count": null,
      "_view_module": "@jupyter-widgets/controls",
      "_view_module_version": "1.5.0",
      "_view_name": "HTMLView",
      "description": "",
      "description_tooltip": null,
      "layout": "IPY_MODEL_f7c8a57b7d8947d6a57934b59a8de538",
      "placeholder": "​",
      "style": "IPY_MODEL_a48cb49b64714bb1b90258d7f2310ae7",
      "value": " 747730/747730 [00:03&lt;00:00, 208012.08it/s]"
     }
    },
    "cb81408fd9954ea2bf1ad240d3b19ca8": {
     "model_module": "@jupyter-widgets/controls",
     "model_module_version": "1.5.0",
     "model_name": "HTMLModel",
     "state": {
      "_dom_classes": [],
      "_model_module": "@jupyter-widgets/controls",
      "_model_module_version": "1.5.0",
      "_model_name": "HTMLModel",
      "_view_count": null,
      "_view_module": "@jupyter-widgets/controls",
      "_view_module_version": "1.5.0",
      "_view_name": "HTMLView",
      "description": "",
      "description_tooltip": null,
      "layout": "IPY_MODEL_9fb64414abd44ff0b5d4eae40f9c8dc2",
      "placeholder": "​",
      "style": "IPY_MODEL_e1ba681615bd4dc8b424c4a7a09a9376",
      "value": "100%"
     }
    },
    "e1ba681615bd4dc8b424c4a7a09a9376": {
     "model_module": "@jupyter-widgets/controls",
     "model_module_version": "1.5.0",
     "model_name": "DescriptionStyleModel",
     "state": {
      "_model_module": "@jupyter-widgets/controls",
      "_model_module_version": "1.5.0",
      "_model_name": "DescriptionStyleModel",
      "_view_count": null,
      "_view_module": "@jupyter-widgets/base",
      "_view_module_version": "1.2.0",
      "_view_name": "StyleView",
      "description_width": ""
     }
    },
    "ee508de64370400a899df0154c69fa14": {
     "model_module": "@jupyter-widgets/controls",
     "model_module_version": "1.5.0",
     "model_name": "FloatProgressModel",
     "state": {
      "_dom_classes": [],
      "_model_module": "@jupyter-widgets/controls",
      "_model_module_version": "1.5.0",
      "_model_name": "FloatProgressModel",
      "_view_count": null,
      "_view_module": "@jupyter-widgets/controls",
      "_view_module_version": "1.5.0",
      "_view_name": "ProgressView",
      "bar_style": "success",
      "description": "",
      "description_tooltip": null,
      "layout": "IPY_MODEL_899588d001044eb5b211e64dc2ada716",
      "max": 747730,
      "min": 0,
      "orientation": "horizontal",
      "style": "IPY_MODEL_a745395bc99f44e08304dc581d65e311",
      "value": 747730
     }
    },
    "f7c8a57b7d8947d6a57934b59a8de538": {
     "model_module": "@jupyter-widgets/base",
     "model_module_version": "1.2.0",
     "model_name": "LayoutModel",
     "state": {
      "_model_module": "@jupyter-widgets/base",
      "_model_module_version": "1.2.0",
      "_model_name": "LayoutModel",
      "_view_count": null,
      "_view_module": "@jupyter-widgets/base",
      "_view_module_version": "1.2.0",
      "_view_name": "LayoutView",
      "align_content": null,
      "align_items": null,
      "align_self": null,
      "border": null,
      "bottom": null,
      "display": null,
      "flex": null,
      "flex_flow": null,
      "grid_area": null,
      "grid_auto_columns": null,
      "grid_auto_flow": null,
      "grid_auto_rows": null,
      "grid_column": null,
      "grid_gap": null,
      "grid_row": null,
      "grid_template_areas": null,
      "grid_template_columns": null,
      "grid_template_rows": null,
      "height": null,
      "justify_content": null,
      "justify_items": null,
      "left": null,
      "margin": null,
      "max_height": null,
      "max_width": null,
      "min_height": null,
      "min_width": null,
      "object_fit": null,
      "object_position": null,
      "order": null,
      "overflow": null,
      "overflow_x": null,
      "overflow_y": null,
      "padding": null,
      "right": null,
      "top": null,
      "visibility": null,
      "width": null
     }
    }
   },
   "state": {}
  }
 },
 "nbformat": 4,
 "nbformat_minor": 0
}
